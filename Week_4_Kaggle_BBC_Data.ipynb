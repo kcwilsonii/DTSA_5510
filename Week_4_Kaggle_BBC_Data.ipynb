{
 "cells": [
  {
   "cell_type": "markdown",
   "id": "ae73f206-c7be-42f1-963d-754ba8cc7514",
   "metadata": {},
   "source": [
    "# Week4 Kaggle Data Set from BBC"
   ]
  },
  {
   "cell_type": "code",
   "execution_count": 1,
   "id": "2aa71424-8ba7-46b2-8c94-fd4d117f39a4",
   "metadata": {},
   "outputs": [],
   "source": [
    "from PIL import Image\n",
    "import glob\n",
    "import os\n",
    "import numpy as np\n",
    "import pandas as pd\n",
    "import sklearn\n",
    "import matplotlib.pyplot as plt      \n",
    "from matplotlib.pyplot import figure\n",
    "from sklearn.svm import SVC                                \n",
    "from sklearn.model_selection import train_test_split\n",
    "import pathlib\n",
    "import os\n",
    "import string\n",
    "import nltk\n",
    "from nltk.tokenize import sent_tokenize, word_tokenize\n",
    "import warnings \n",
    "#import gensim\n",
    "#from gensim.models import Word2Vec\n",
    "import re\n",
    "from nltk.corpus import stopwords\n",
    "from sklearn.feature_extraction.text import TfidfVectorizer\n",
    "from sklearn.decomposition import NMF\n",
    "import math\n",
    "from sklearn.metrics import accuracy_score, confusion_matrix\n",
    "import time\n",
    "from sklearn.cluster import KMeans"
   ]
  },
  {
   "cell_type": "code",
   "execution_count": 2,
   "id": "e0969161-34d3-47ad-b8d3-c08b878aaac8",
   "metadata": {},
   "outputs": [
    {
     "name": "stdout",
     "output_type": "stream",
     "text": [
      "C:\\Users\\Rivendell\\Documents\\Data_Science_masters\\Boulder_Colorado\\2023_Spring_Session_1\\DTSA 5510 Unsupervised Algorithms in Machine Learning\\Week_4\n",
      "C:\\Users\\Rivendell\\Documents\\Data_Science_masters\\Boulder_Colorado\\2023_Spring_Session_1\\DTSA 5510 Unsupervised Algorithms in Machine Learning\\Week_4\n"
     ]
    }
   ],
   "source": [
    "print(pathlib.Path().absolute())\n",
    "print (os.getcwd())\n"
   ]
  },
  {
   "cell_type": "code",
   "execution_count": 3,
   "id": "6899fe53-e821-4a75-a9f9-41d96c93693d",
   "metadata": {},
   "outputs": [],
   "source": [
    "class color:\n",
    "    PURPLE = \"\\033[95m\"\n",
    "    CYAN = \"\\033[96m\"\n",
    "    DARKCYAN = \"\\033[36m\"\n",
    "    BLUE = \"\\033[94m\"\n",
    "    GREEN = \"\\033[92m\"\n",
    "    YELLOW = \"\\033[93m\"\n",
    "    RED = \"\\033[91m\"\n",
    "    BOLD = \"\\033[1m\"\n",
    "    UNDERLINE = \"\\033[4m\"\n",
    "    END = \"\\033[0m\""
   ]
  },
  {
   "cell_type": "code",
   "execution_count": 4,
   "id": "380c245f-0e7c-454d-b7a6-8a1c063b68fd",
   "metadata": {},
   "outputs": [
    {
     "name": "stdout",
     "output_type": "stream",
     "text": [
      "\u001b[4m\u001b[1m\u001b[91mBBC Test Data\u001b[0m\n",
      "C:\\Users\\Rivendell\\Documents\\Data_Science_masters\\Boulder_Colorado\\2023_Spring_Session_1\\DTSA 5510 Unsupervised Algorithms in Machine Learning\\Week_4\\learn-ai-bbc\\BBC News Test.csv\n",
      "   ArticleId                                               Text\n",
      "0       1018  qpr keeper day heads for preston queens park r...\n",
      "1       1319  software watching while you work software that...\n",
      "2       1138  d arcy injury adds to ireland woe gordon d arc...\n",
      "3        459  india s reliance family feud heats up the ongo...\n",
      "4       1020  boro suffer morrison injury blow middlesbrough...\n",
      "\n",
      "\n",
      "\u001b[4m\u001b[1m\u001b[91mBBC Train Data\u001b[0m\n",
      "   ArticleId                                               Text  Category\n",
      "0       1833  worldcom ex-boss launches defence lawyers defe...  business\n",
      "1        154  german business confidence slides german busin...  business\n",
      "2       1101  bbc poll indicates economic gloom citizens in ...  business\n",
      "3       1976  lifestyle  governs mobile choice  faster  bett...      tech\n",
      "4        917  enron bosses in $168m payout eighteen former e...  business\n",
      "\n",
      "\n",
      "\u001b[4m\u001b[1m\u001b[91mBBC Sample Solution Data\u001b[0m\n",
      "   ArticleId       Category\n",
      "0       1018          sport\n",
      "1       1319           tech\n",
      "2       1138       business\n",
      "3        459  entertainment\n",
      "4       1020       politics\n"
     ]
    }
   ],
   "source": [
    "current_dir = (os.getcwd())\n",
    "path = \"\\learn-ai-bbc\"\n",
    "\n",
    "print(color.UNDERLINE + color.BOLD + color.RED + \"BBC Test Data\" + color.END)    \n",
    "File_name = None\n",
    "File_name = \"\\BBC News Test.csv\"\n",
    "File_Path = current_dir + path + File_name\n",
    "print(File_Path)\n",
    "BBC_News_Test_Data = pd.read_csv(File_Path)\n",
    "print(BBC_News_Test_Data.head())\n",
    "\n",
    "\n",
    "print()\n",
    "print()\n",
    "print(color.UNDERLINE + color.BOLD + color.RED + \"BBC Train Data\" + color.END)\n",
    "File_name = None\n",
    "File_name = \"\\BBC News Train.csv\"\n",
    "File_Path = current_dir + path + File_name\n",
    "BBC_News_Train_Data = pd.read_csv(File_Path)\n",
    "print(BBC_News_Train_Data.head())\n",
    "\n",
    "print()\n",
    "print()\n",
    "print(color.UNDERLINE + color.BOLD + color.RED + \"BBC Sample Solution Data\" + color.END)\n",
    "File_name = None\n",
    "File_name = \"\\BBC News Sample Solution.csv\"\n",
    "File_Path = current_dir + path + File_name\n",
    "BBC_News_Sample_Solution = pd.read_csv(File_Path)\n",
    "print(BBC_News_Sample_Solution.head())\n",
    "\n",
    "\n"
   ]
  },
  {
   "cell_type": "markdown",
   "id": "0284c830",
   "metadata": {},
   "source": [
    "## Plot number of word per category and number of Articles in each category\n",
    "## this could affect predictions by quite a bit if more keywords are present in one\n",
    "## Category versus another"
   ]
  },
  {
   "cell_type": "code",
   "execution_count": 5,
   "id": "d6e8dd2e",
   "metadata": {},
   "outputs": [],
   "source": [
    "plt.rcParams[\"figure.figsize\"] = (10,5)"
   ]
  },
  {
   "cell_type": "code",
   "execution_count": 6,
   "id": "f8302534",
   "metadata": {},
   "outputs": [
    {
     "data": {
      "image/png": "[encoded data removed]",
      "text/plain": [
       "<Figure size 432x288 with 1 Axes>"
      ]
     },
     "metadata": {
      "needs_background": "light"
     },
     "output_type": "display_data"
    }
   ],
   "source": [
    "BBC_News_Train_Data['Word_Count'] = BBC_News_Train_Data[\"Text\"].str.split().apply(len) # add a new column with word counts\n",
    "\n",
    "Train_grouped = BBC_News_Train_Data.groupby(by='Category')['Word_Count'].sum()\n",
    "Train_grouped.plot.bar(x='Category', y='Word_Count', width = 0.5)\n",
    "plt.show()\n",
    "#BBC_News_Test_Data['Word_Count'] = BBC_News_Test_Data[\"Text\"].str.split().apply(len) # add a new column with word counts\n",
    "#Test_grouped = BBC_News_Test_Data.groupby(by='Category')['Word_Count'].sum()"
   ]
  },
  {
   "cell_type": "code",
   "execution_count": 7,
   "id": "b7728401-077e-4aef-87b6-df2af494f6fd",
   "metadata": {},
   "outputs": [
    {
     "name": "stdout",
     "output_type": "stream",
     "text": [
      "AxesSubplot(0.125,0.125;0.775x0.755)\n"
     ]
    },
    {
     "data": {
      "image/png": "[encoded data removed]",
      "text/plain": [
       "<Figure size 432x288 with 1 Axes>"
      ]
     },
     "metadata": {
      "needs_background": "light"
     },
     "output_type": "display_data"
    }
   ],
   "source": [
    "print(BBC_News_Train_Data['Category'].value_counts().plot.bar())"
   ]
  },
  {
   "cell_type": "markdown",
   "id": "d0a2e228",
   "metadata": {},
   "source": [
    "## Unigue Categories"
   ]
  },
  {
   "cell_type": "code",
   "execution_count": 8,
   "id": "d0447e75-3707-4235-8958-99ca272501f0",
   "metadata": {},
   "outputs": [
    {
     "name": "stdout",
     "output_type": "stream",
     "text": [
      "['sport' 'tech' 'business' 'entertainment' 'politics']\n"
     ]
    }
   ],
   "source": [
    "\n",
    "print(BBC_News_Sample_Solution[\"Category\"].unique())\n"
   ]
  },
  {
   "cell_type": "markdown",
   "id": "553acd58",
   "metadata": {},
   "source": [
    "## Consolidate all the text from train and test into one \n",
    "## dataframe for possible use later in the analysis"
   ]
  },
  {
   "cell_type": "code",
   "execution_count": 9,
   "id": "941cd874-250f-4568-9206-2fb99a45cb45",
   "metadata": {},
   "outputs": [],
   "source": [
    "All_Articles = pd.concat([BBC_News_Train_Data[\"Text\"], BBC_News_Test_Data[\"Text\"]], axis=0)  "
   ]
  },
  {
   "cell_type": "code",
   "execution_count": 10,
   "id": "b8a4cf6e-c0df-43c6-8016-deabab8ffcf6",
   "metadata": {},
   "outputs": [
    {
     "name": "stdout",
     "output_type": "stream",
     "text": [
      "1490\n",
      "735\n",
      "2225\n"
     ]
    },
    {
     "data": {
      "text/plain": [
       "0    worldcom ex-boss launches defence lawyers defe...\n",
       "1    german business confidence slides german busin...\n",
       "2    bbc poll indicates economic gloom citizens in ...\n",
       "3    lifestyle  governs mobile choice  faster  bett...\n",
       "4    enron bosses in $168m payout eighteen former e...\n",
       "Name: Text, dtype: object"
      ]
     },
     "execution_count": 10,
     "metadata": {},
     "output_type": "execute_result"
    }
   ],
   "source": [
    "All_Articles.head()\n",
    "print(len(BBC_News_Train_Data[\"Text\"]))\n",
    "print(len(BBC_News_Test_Data[\"Text\"]))\n",
    "print(len(All_Articles))\n",
    "All_Articles.head()"
   ]
  },
  {
   "cell_type": "markdown",
   "id": "f327d787",
   "metadata": {},
   "source": [
    "## Function to remove unwanted text and stop words"
   ]
  },
  {
   "cell_type": "code",
   "execution_count": 11,
   "id": "bc7961cb",
   "metadata": {},
   "outputs": [],
   "source": [
    "def Text_Removal(Text_Dataframe, Text_Column_Name):\n",
    "    \n",
    "    # Function to reduce text to a usable set of words for identifying topics\n",
    "    # and the article category\n",
    "    \n",
    "    Word_Data = Text_Dataframe.copy()\n",
    "    #remove unecessary punction and text that do not qualify as words\n",
    "    Word_Data[Text_Column_Name] = Word_Data[Text_Column_Name].apply(lambda row: re.sub(r'[^\\w\\s]+', '', row))\n",
    "    Word_Data[Text_Column_Name] = Word_Data[Text_Column_Name].apply(lambda row: re.sub(r'[0-9]+', '', row))\n",
    "    \n",
    "    #remove stopwords or words that are not unique  like... (the, and, or , that)\n",
    "    stop_words = stopwords.words('english')\n",
    "    Word_Data[Text_Column_Name] = Word_Data[Text_Column_Name].apply(lambda x: ' '.join([word for word in x.split() if word not in (stop_words)]))\n",
    "    \n",
    "    return Word_Data[Text_Column_Name]"
   ]
  },
  {
   "cell_type": "markdown",
   "id": "8b064b23",
   "metadata": {},
   "source": [
    "## Function to determine accuracy"
   ]
  },
  {
   "cell_type": "code",
   "execution_count": 12,
   "id": "e51ebf4b",
   "metadata": {},
   "outputs": [],
   "source": [
    "import itertools\n",
    "\n",
    "def label_permute_compare(ytdf,yp,n=5):\n",
    "    \"\"\"\n",
    "    ytdf: labels dataframe object\n",
    "    yp: clustering label prediction output\n",
    "    Returns permuted label order and accuracy. \n",
    "    Example output: (3, 4, 1, 2, 0), 0.74 \n",
    "    \"\"\"\n",
    "# your code here\n",
    "\n",
    "    total_time = 0\n",
    "    end_time = 0\n",
    "    start_time = 0\n",
    "    start_time = time.time()\n",
    "    \n",
    "    Model_Check = None\n",
    "    Model_Check = yp\n",
    "    label = None\n",
    "    label = ytdf\n",
    "\n",
    "    Current_Accuracy_Score = 0\n",
    "    New_Accuracy_Score = 0\n",
    "    Best_Permutation = ()\n",
    "    Best_Percent_Matched = 0\n",
    "    Model_Label_list_Final = []\n",
    "    Total_Rows = len(label)\n",
    "  \n",
    "    label_list = pd.DataFrame()\n",
    "    label_list = label_list.append({'Category':'sport', 'Value':0, 'Accuracy':0},ignore_index=True)\n",
    "    label_list = label_list.append({'Category':'tech', 'Value':1, 'Accuracy':0},ignore_index=True)\n",
    "    label_list = label_list.append({'Category':'business', 'Value':2, 'Accuracy':0},ignore_index=True)\n",
    "    label_list = label_list.append({'Category':'entertainment', 'Value':3, 'Accuracy':0},ignore_index=True)\n",
    "    label_list = label_list.append({'Category':'politics', 'Value':4, 'Accuracy':0},ignore_index=True)\n",
    "\n",
    "    Label_array = label[\"Category\"].to_numpy()\n",
    "\n",
    "    Value_List = (0,1,2,3,4)\n",
    "    Value_List_per = itertools.permutations(Value_List,5)\n",
    "    for val in Value_List_per:\n",
    "\n",
    "    \n",
    "        for z in range(len(val)):\n",
    "            #print(val[z])\n",
    "            #print(label_list.loc[[z]])\n",
    "            label_list.loc[z, ['Value']] = val[z]\n",
    "\n",
    "        Model_Label_list1 = []\n",
    "        for i in range(len(Model_Check)):\n",
    "            Test = label_list.loc[label_list['Value'] == Model_Check[i]] \n",
    "            Class_Value = Test['Category'].to_string(index=False).lstrip()  \n",
    "            Model_Label_list1.append(Class_Value)\n",
    "    \n",
    "\n",
    "        New_Accuracy_Score = accuracy_score(Label_array, Model_Label_list1, normalize=False)\n",
    "        if New_Accuracy_Score > Current_Accuracy_Score:\n",
    "            \n",
    "            Current_Accuracy_Score = New_Accuracy_Score\n",
    "            Best_Permutation = val\n",
    "            Best_Percent_Matched = New_Accuracy_Score/Total_Rows\n",
    "            Model_Label_list_Final = Model_Label_list1\n",
    "            \n",
    "\n",
    "    print('Best configuration: ',Best_Permutation,' - ',Current_Accuracy_Score,' - ',Best_Percent_Matched)\n",
    "    \n",
    "    print(Total_Rows)\n",
    "    end_time = time.time()\n",
    "    total_time = end_time - start_time\n",
    "    print('Total Time: ',total_time)\n",
    "    \n",
    "    print()\n",
    "    print(confusion_matrix(Label_array, Model_Label_list_Final))\n",
    "    print()\n",
    "    \n",
    "    return (Best_Permutation,Best_Percent_Matched)"
   ]
  },
  {
   "cell_type": "markdown",
   "id": "cb4e9f03",
   "metadata": {},
   "source": [
    "## Function to predict Values\n"
   ]
  },
  {
   "cell_type": "code",
   "execution_count": 13,
   "id": "aad0b378",
   "metadata": {},
   "outputs": [],
   "source": [
    "def Prediction_Function(w_matrix):\n",
    "\n",
    "    sorted_matrix = np.argsort(w_matrix)\n",
    "    number_of_rows, N = sorted_matrix.shape\n",
    "\n",
    "    #Get's the max value based on the indices for the sorted data\n",
    "    #basically grabs value in the sort that has the highest value\n",
    "    #and stores that in an array of those values\n",
    "    predicted_values = [[sorted_matrix[i][N - 1]] for i in range(number_of_rows)]\n",
    "    \n",
    "    #create empty array to hold each value from the \n",
    "    Predicted_Categories = np.empty(number_of_rows, dtype = np.int64)\n",
    "    \n",
    "    #store each chosen predicted value in an array\n",
    "    for i in range(number_of_rows):\n",
    "        Predicted_Categories[i] = predicted_values[i][0]\n",
    "    print(type(Predicted_Categories))\n",
    "    \n",
    "    return Predicted_Categories"
   ]
  },
  {
   "cell_type": "markdown",
   "id": "da52af1a",
   "metadata": {},
   "source": [
    "## Run tests on Training data"
   ]
  },
  {
   "cell_type": "markdown",
   "id": "aa0cf4be",
   "metadata": {},
   "source": [
    "### After reviewing different avenues to vectorizing the text, I settled on TF-IDF as it seemd the most practical due to it's wide use. This takes the words and determines a value based on the number of time it appears in a document and also takes into account how often it appears in other documents. \n",
    "\n",
    "###  I ran multiple tests on the NMF model after getting the TF-IDF from using solver CD with Frobenius, beta loss itakura-saito failed due to data issues (the input matrix X cannot contain zeros), and then Solver mu with beta loss kullback-leibler.\n",
    "\n",
    "### Anything combination with beta loss Frobenius resulted in approx .91 for accuracy.\n",
    "\n",
    "### Beta Loss kullback-leibler with mu gave the best results but the init value did matter\n",
    "\n",
    "### Init Values and results\n",
    "### random - 0.61\n",
    "### nndsvd - 0.93\n",
    "### nndsvda - 0.961\n",
    "### nndsvdar - 0.961\n",
    "\n",
    "### Beta Loss kullback-leibler with solver mu and init of nndsvda returned a good accuracy \n",
    "### with no change using  an init of nndsvdar. So this will be the same configuration for the test set"
   ]
  },
  {
   "cell_type": "code",
   "execution_count": 14,
   "id": "c350bf41",
   "metadata": {},
   "outputs": [
    {
     "name": "stdout",
     "output_type": "stream",
     "text": [
      "<class 'numpy.ndarray'>\n",
      "[4 4 4 ... 4 2 2]\n",
      "Best configuration:  (0, 2, 4, 3, 1)  -  1432  -  0.9610738255033557\n",
      "1490\n",
      "Total Time:  33.260549545288086\n",
      "\n",
      "[[312   2   8   0  14]\n",
      " [  1 264   4   0   4]\n",
      " [  5   2 263   3   1]\n",
      " [  1   1   1 343   0]\n",
      " [  0   6   2   3 250]]\n",
      "\n",
      "accuracy= 0.9610738255033557\n"
     ]
    }
   ],
   "source": [
    "warnings.simplefilter('ignore')\n",
    "Article_Text = Text_Removal(BBC_News_Train_Data,\"Text\")\n",
    "\n",
    "# Create TF-IDF matrix\n",
    "vectorizer = TfidfVectorizer(max_df=0.95, min_df=2, stop_words=\"english\")\n",
    "tfidf_matrix = vectorizer.fit_transform(Article_Text)\n",
    "\n",
    "# Create NMF model with N topics\n",
    "Component_value = 5\n",
    "nmf_model = NMF(n_components=Component_value, \n",
    "                #init='random', \n",
    "                #init='nndsvd', \n",
    "                init='nndsvda', \n",
    "                #init='nndsvdar', \n",
    "                solver = 'mu',\n",
    "                #beta_loss = 'itakura-saito',\n",
    "                beta_loss = 'kullback-leibler',\n",
    "                #beta_loss = 'frobenius',\n",
    "                ##l1_ratio = 0.5,\n",
    "                random_state = 42\n",
    "               )\n",
    "\n",
    "nmf_matrix = nmf_model.fit_transform(tfidf_matrix)\n",
    "#print(nmf_matrix)\n",
    "\n",
    "    \n",
    "predict_matrix = nmf_model.transform(tfidf_matrix)\n",
    "\n",
    "Category_Labels = Prediction_Function(nmf_matrix)\n",
    "#Category_Labels = Prediction_Function(predict_matrix)\n",
    "print(Category_Labels)\n",
    "\n",
    "Train_Labels = BBC_News_Train_Data.loc[:, ['ArticleId','Category']]\n",
    "label_order, accuracy = label_permute_compare(Train_Labels, Category_Labels )\n",
    "print('accuracy=', accuracy)\n",
    "warnings.resetwarnings()"
   ]
  },
  {
   "cell_type": "markdown",
   "id": "6700c086",
   "metadata": {},
   "source": [
    "## Now run tests using Test dataset, print and show text for first ten categories for Comparison and visual inspection\n"
   ]
  },
  {
   "cell_type": "markdown",
   "id": "373f0498",
   "metadata": {},
   "source": [
    "### Create Label List for use with export of data for Kaggle submission"
   ]
  },
  {
   "cell_type": "code",
   "execution_count": 15,
   "id": "259bdbdf",
   "metadata": {},
   "outputs": [
    {
     "name": "stdout",
     "output_type": "stream",
     "text": [
      "        Category  Value  Accuracy\n",
      "0          sport      0         0\n",
      "1           tech      1         0\n",
      "2       business      2         0\n",
      "3  entertainment      3         0\n",
      "4       politics      4         0\n"
     ]
    }
   ],
   "source": [
    "warnings.simplefilter('ignore')\n",
    "label_list = pd.DataFrame()\n",
    "label_list = label_list.append({'Category':'sport', 'Value':0, 'Accuracy':0},ignore_index=True)\n",
    "label_list = label_list.append({'Category':'tech', 'Value':1, 'Accuracy':0},ignore_index=True)\n",
    "label_list = label_list.append({'Category':'business', 'Value':2, 'Accuracy':0},ignore_index=True)\n",
    "label_list = label_list.append({'Category':'entertainment', 'Value':3, 'Accuracy':0},ignore_index=True)\n",
    "label_list = label_list.append({'Category':'politics', 'Value':4, 'Accuracy':0},ignore_index=True)\n",
    "print(label_list)\n",
    "warnings.resetwarnings()\n"
   ]
  },
  {
   "cell_type": "code",
   "execution_count": 20,
   "id": "168cc7a2",
   "metadata": {},
   "outputs": [
    {
     "name": "stdout",
     "output_type": "stream",
     "text": [
      "Look at some results for visual inspection before exporting data for submission file\n",
      "\n",
      "<class 'numpy.ndarray'>\n",
      "\n",
      "Category Results\n",
      "   ArticleId                                               Text  \\\n",
      "0       1018  qpr keeper day heads for preston queens park r...   \n",
      "1       1319  software watching while you work software that...   \n",
      "2       1138  d arcy injury adds to ireland woe gordon d arc...   \n",
      "3        459  india s reliance family feud heats up the ongo...   \n",
      "4       1020  boro suffer morrison injury blow middlesbrough...   \n",
      "5         51  lewsey puzzle over disallowed try england s jo...   \n",
      "6       2025  blair blasts tory spending plans tony blair ha...   \n",
      "7       1479  former ni minister scott dies former northern ...   \n",
      "8         27  career honour for actor dicaprio actor leonard...   \n",
      "9        397  tsunami  to hit sri lanka banks  sri lanka s b...   \n",
      "\n",
      "   Category_Values Category_Description  \n",
      "0                0                sport  \n",
      "1                3        entertainment  \n",
      "2                0                sport  \n",
      "3                2             business  \n",
      "4                0                sport  \n",
      "5                0                sport  \n",
      "6                1                 tech  \n",
      "7                1                 tech  \n",
      "8                4             politics  \n",
      "9                2             business  \n"
     ]
    }
   ],
   "source": [
    "warnings.simplefilter('ignore')\n",
    "\n",
    "print(\"Look at some results for visual inspection before exporting data for submission file\")\n",
    "\n",
    "Article_Text = Text_Removal(BBC_News_Test_Data,\"Text\")\n",
    "#print(BBC_News_Test_Data.head())\n",
    "print()\n",
    "#print(Article_Text.head(10))\n",
    "\n",
    "# Create TF-IDF matrix\n",
    "vectorizer = TfidfVectorizer(max_df=0.95, min_df=2, stop_words=\"english\")\n",
    "tfidf_matrix = vectorizer.fit_transform(Article_Text)\n",
    "\n",
    "# Create NMF model with N topics\n",
    "Component_value = 5\n",
    "nmf_model = NMF(n_components=Component_value, \n",
    "                init='nndsvda', \n",
    "                solver = 'mu',\n",
    "                beta_loss = 'kullback-leibler',\n",
    "                ##l1_ratio = 0.5,\n",
    "                random_state = 101\n",
    "               )\n",
    "\n",
    "nmf_matrix = nmf_model.fit_transform(tfidf_matrix)\n",
    "Category_Labels = Prediction_Function(nmf_matrix)\n",
    "   \n",
    "#predict_matrix = nmf_model.transform(tfidf_matrix)\n",
    "#Category_Labels = Prediction_Function(predict_matrix)\n",
    "\n",
    "Submission_Data = BBC_News_Test_Data.copy()\n",
    "Submission_Data['Category_Values'] = Category_Labels.tolist()\n",
    "Submission_Data[\"Category_Description\"] = \"\"\n",
    "\n",
    "# create dataframe for Kaggle submission file\n",
    "for index, row in label_list.iterrows():\n",
    "    mask = (Submission_Data['Category_Values'] == row['Value'])\n",
    "    Submission_Data.loc[mask, 'Category_Description'] = row['Category']\n",
    "print()\n",
    "print(\"Category Results\")\n",
    "print(Submission_Data.head(10))\n",
    "    \n",
    "warnings.resetwarnings()"
   ]
  },
  {
   "cell_type": "markdown",
   "id": "19826ff5",
   "metadata": {},
   "source": [
    "## Code to create file for Kaggle submission"
   ]
  },
  {
   "cell_type": "code",
   "execution_count": 21,
   "id": "24917e8c",
   "metadata": {},
   "outputs": [
    {
     "name": "stderr",
     "output_type": "stream",
     "text": [
      "<>:5: DeprecationWarning: invalid escape sequence '\\l'\n",
      "<>:8: DeprecationWarning: invalid escape sequence '\\k'\n",
      "<>:5: DeprecationWarning: invalid escape sequence '\\l'\n",
      "<>:8: DeprecationWarning: invalid escape sequence '\\k'\n",
      "C:\\Users\\Rivendell\\AppData\\Local\\Temp\\ipykernel_6700\\3069013050.py:5: DeprecationWarning: invalid escape sequence '\\l'\n",
      "  path = \"\\learn-ai-bbc\"\n",
      "C:\\Users\\Rivendell\\AppData\\Local\\Temp\\ipykernel_6700\\3069013050.py:8: DeprecationWarning: invalid escape sequence '\\k'\n",
      "  File_name = \"\\kaggle_Submission.csv\"\n"
     ]
    }
   ],
   "source": [
    "Kaggle_Submission = Submission_Data[['ArticleId', 'Category_Description']].copy()\n",
    "Kaggle_Submission.rename(columns={'Category_Description':'Category'}, inplace=True)\n",
    "Kaggle_Submission.head()\n",
    "current_dir = (os.getcwd())\n",
    "path = \"\\learn-ai-bbc\"\n",
    "\n",
    "File_name = None\n",
    "File_name = \"\\kaggle_Submission.csv\"\n",
    "File_Path = current_dir + path + File_name\n",
    "Kaggle_Submission.to_csv (File_Path, index = False, header=True)"
   ]
  },
  {
   "cell_type": "markdown",
   "id": "efda3456",
   "metadata": {},
   "source": [
    "## Now to try a Supervised learning version"
   ]
  },
  {
   "cell_type": "code",
   "execution_count": 26,
   "id": "2918af5d",
   "metadata": {},
   "outputs": [
    {
     "name": "stdout",
     "output_type": "stream",
     "text": [
      "Best configuration:  (3, 2, 1, 4, 0)  -  1340  -  0.8993288590604027\n",
      "1490\n",
      "Total Time:  69.58099102973938\n",
      "\n",
      "[[328   0   1   1   6]\n",
      " [ 30 226   1   6  10]\n",
      " [ 64   0 204   2   4]\n",
      " [  1   0   0 345   0]\n",
      " [ 15   4   0   5 237]]\n",
      "\n",
      "accuracy= 0.8993288590604027\n",
      "(3, 2, 1, 4, 0) \n",
      "\n"
     ]
    }
   ],
   "source": [
    "warnings.simplefilter('ignore')\n",
    "\n",
    "Article_Text = Text_Removal(BBC_News_Train_Data,\"Text\")\n",
    "Article_Text_Frame = pd.DataFrame(columns=['text'])\n",
    "Article_Text_Frame['text'] = Article_Text.tolist()\n",
    "\n",
    "#split data into X and y\n",
    "y_train = BBC_News_Train_Data['Category'].values\n",
    "X_train = Article_Text_Frame['text'].values\n",
    "\n",
    "#create new vectorizer for supervised learning model\n",
    "supervised_tfidfvector = TfidfVectorizer(min_df = 2,\n",
    "                          max_df = 0.95,\n",
    "                          norm = 'l2',\n",
    "                          stop_words = 'english')\n",
    "Supervised_train_fit = supervised_tfidfvector.fit_transform(X_train) \n",
    "\n",
    "#create KMeans Model and train\n",
    "kmeans = KMeans(n_clusters = 5, \n",
    "                init = 'k-means++', \n",
    "                algorithm = 'full', \n",
    "                random_state = 99)\n",
    "supervised_yhat_train = kmeans.fit_predict(Supervised_train_fit)\n",
    "\n",
    "#get accuracy\n",
    "y_train_df = pd.DataFrame(y_train, columns=['Category'])\n",
    "label_order, accuracy = label_permute_compare(y_train_df, supervised_yhat_train)\n",
    "print('accuracy=', accuracy)\n",
    "print(label_order, '\\n')\n",
    "warnings.resetwarnings()"
   ]
  },
  {
   "cell_type": "markdown",
   "id": "154f7ffb",
   "metadata": {},
   "source": [
    "## Both the Training and Supervised Learning sets went well, but my Kaggle submission did not, I only received a 45% accuracy. \n",
    "\n",
    "## I visually inspected the output and it was hard to see where it wrong, but it almost seemed as if some predictions were off by one array wise, this could have been pure coinicidence though. \n",
    "\n",
    "## More than likely my predict or my accuracy test has issues\n",
    "\n",
    "## Overall the supervised learning works well and seems a bit more consistent. The unsupervised version requires tweaking and experimentation\n",
    "\n",
    "## With regards to the training data, I feel that we could use a larger set in general. The split on this set is 2/3 for the Train and a 1/3 for the test set for a 66/33 split. Typically in previous models splits are set at 80/20.\n",
    "\n",
    "## The tech one seems to have faired worse than the others and it has the fewest articles and the most words in the train set. The sport and business seemed to do well on the test set, but they have the most articles and a decent number of words in the train set, which seems to show volume preference when it comes to number of articles and words when calculating things."
   ]
  },
  {
   "cell_type": "markdown",
   "id": "fbb65083",
   "metadata": {},
   "source": [
    "## One other Note: The random state did affect the supervised model , but did not affect the unsupervised model, so that might be an advantage for that process."
   ]
  },
  {
   "cell_type": "code",
   "execution_count": null,
   "id": "23646275",
   "metadata": {},
   "outputs": [],
   "source": []
  }
 ],
 "metadata": {
  "kernelspec": {
   "display_name": "Python 3 (ipykernel)",
   "language": "python",
   "name": "python3"
  },
  "language_info": {
   "codemirror_mode": {
    "name": "ipython",
    "version": 3
   },
   "file_extension": ".py",
   "mimetype": "text/x-python",
   "name": "python",
   "nbconvert_exporter": "python",
   "pygments_lexer": "ipython3",
   "version": "3.10.6"
  }
 },
 "nbformat": 4,
 "nbformat_minor": 5
}
