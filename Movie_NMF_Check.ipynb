{
 "cells": [
  {
   "cell_type": "markdown",
   "id": "d916a44a",
   "metadata": {},
   "source": [
    "## Movie ratings Notebook "
   ]
  },
  {
   "cell_type": "markdown",
   "id": "19ff6d3e",
   "metadata": {},
   "source": [
    "https://github.com/kcwilsonii/DTSA_5510"
   ]
  },
  {
   "cell_type": "code",
   "execution_count": 35,
   "id": "9c28371f",
   "metadata": {},
   "outputs": [],
   "source": [
    "from PIL import Image\n",
    "import glob\n",
    "import os\n",
    "import numpy as np\n",
    "import pandas as pd\n",
    "import sklearn\n",
    "import matplotlib.pyplot as plt            \n",
    "from sklearn.svm import SVC                                \n",
    "from sklearn.model_selection import train_test_split\n",
    "import pathlib\n",
    "import os\n",
    "import string\n",
    "import nltk\n",
    "from nltk.tokenize import sent_tokenize, word_tokenize\n",
    "import warnings \n",
    "import itertools\n",
    "import re\n",
    "from nltk.corpus import stopwords\n",
    "from sklearn.feature_extraction.text import TfidfVectorizer\n",
    "from sklearn.decomposition import NMF\n",
    "import math\n",
    "from sklearn.metrics import accuracy_score, confusion_matrix\n",
    "import time\n",
    "from sklearn.cluster import KMeans"
   ]
  },
  {
   "cell_type": "code",
   "execution_count": 36,
   "id": "ae9473f5",
   "metadata": {},
   "outputs": [],
   "source": [
    "class color:\n",
    "    PURPLE = \"\\033[95m\"\n",
    "    CYAN = \"\\033[96m\"\n",
    "    DARKCYAN = \"\\033[36m\"\n",
    "    BLUE = \"\\033[94m\"\n",
    "    GREEN = \"\\033[92m\"\n",
    "    YELLOW = \"\\033[93m\"\n",
    "    RED = \"\\033[91m\"\n",
    "    BOLD = \"\\033[1m\"\n",
    "    UNDERLINE = \"\\033[4m\"\n",
    "    END = \"\\033[0m\""
   ]
  },
  {
   "cell_type": "code",
   "execution_count": 37,
   "id": "529501c2",
   "metadata": {},
   "outputs": [
    {
     "name": "stdout",
     "output_type": "stream",
     "text": [
      "\u001b[4m\u001b[1m\u001b[91mMovie Data\u001b[0m\n",
      "C:\\Users\\Rivendell\\Documents\\Data_Science_masters\\Boulder_Colorado\\2023_Spring_Session_1\\DTSA 5510 Unsupervised Algorithms in Machine Learning\\Week_4\\Movies\\Movies.csv\n",
      "   mID                        title  year  Doc  Com  Hor  Adv  Wes  Dra  Ani  \\\n",
      "0    1                    Toy Story  1995    0    1    0    0    0    0    1   \n",
      "1    2                      Jumanji  1995    0    0    0    1    0    0    0   \n",
      "2    3             Grumpier Old Men  1995    0    1    0    0    0    0    0   \n",
      "3    4            Waiting to Exhale  1995    0    1    0    0    0    1    0   \n",
      "4    5  Father of the Bride Part II  1995    0    1    0    0    0    0    0   \n",
      "\n",
      "   ...  Chi  Cri  Thr  Sci  Mys  Rom  Fil  Fan  Act  Mus  \n",
      "0  ...    1    0    0    0    0    0    0    0    0    0  \n",
      "1  ...    1    0    0    0    0    0    0    1    0    0  \n",
      "2  ...    0    0    0    0    0    1    0    0    0    0  \n",
      "3  ...    0    0    0    0    0    0    0    0    0    0  \n",
      "4  ...    0    0    0    0    0    0    0    0    0    0  \n",
      "\n",
      "[5 rows x 21 columns]\n",
      "\n",
      "\n",
      "\u001b[4m\u001b[1m\u001b[91mMovie Train Data\u001b[0m\n",
      "    uID   mID  rating\n",
      "0   744  1210       5\n",
      "1  3040  1584       4\n",
      "2  1451  1293       5\n",
      "3  5455  3176       2\n",
      "4  2507  3074       5\n",
      "\n",
      "\n",
      "\u001b[4m\u001b[1m\u001b[91mMovie test Data\u001b[0m\n",
      "    uID   mID  rating\n",
      "0  2233   440       4\n",
      "1  4274   587       5\n",
      "2  2498   454       3\n",
      "3  2868  2336       5\n",
      "4  1636  2686       5\n",
      "\n",
      "\n",
      "\u001b[4m\u001b[1m\u001b[91mMovie user Data\u001b[0m\n",
      "   uID gender  age  occupation    zip\n",
      "0    1      F    1          10  48067\n",
      "1    2      M   56          16  70072\n",
      "2    3      M   25          15  55117\n",
      "3    4      M   45           7  02460\n",
      "4    5      M   25          20  55455\n"
     ]
    }
   ],
   "source": [
    "current_dir = (os.getcwd())\n",
    "path = \"\\Movies\"\n",
    "\n",
    "print(color.UNDERLINE + color.BOLD + color.RED + \"Movie Data\" + color.END)    \n",
    "File_name = None\n",
    "File_name = \"\\Movies.csv\"\n",
    "File_Path = current_dir + path + File_name\n",
    "print(File_Path)\n",
    "Movie_Data = pd.read_csv(File_Path)\n",
    "print(Movie_Data.head())\n",
    "\n",
    "\n",
    "print()\n",
    "print()\n",
    "print(color.UNDERLINE + color.BOLD + color.RED + \"Movie Train Data\" + color.END)\n",
    "File_name = None\n",
    "File_name = \"\\Movie_Train.csv\"\n",
    "File_Path = current_dir + path + File_name\n",
    "Movie_Train_Data = pd.read_csv(File_Path)\n",
    "print(Movie_Train_Data.head())\n",
    "\n",
    "print()\n",
    "print()\n",
    "print(color.UNDERLINE + color.BOLD + color.RED + \"Movie test Data\" + color.END)\n",
    "File_name = None\n",
    "File_name = \"\\Movie_test.csv\"\n",
    "File_Path = current_dir + path + File_name\n",
    "Movie_Test_Data = pd.read_csv(File_Path)\n",
    "print(Movie_Test_Data.head())\n",
    "\n",
    "print()\n",
    "print()\n",
    "print(color.UNDERLINE + color.BOLD + color.RED + \"Movie user Data\" + color.END)\n",
    "File_name = None\n",
    "File_name = \"\\Movie_users.csv\"\n",
    "File_Path = current_dir + path + File_name\n",
    "Movie_User_Data = pd.read_csv(File_Path)\n",
    "print(Movie_User_Data.head())\n"
   ]
  },
  {
   "cell_type": "code",
   "execution_count": 38,
   "id": "3a8bdd4b",
   "metadata": {},
   "outputs": [],
   "source": [
    "def rmse(Rating_Dataframe,yp):\n",
    "        yp[np.isnan(yp)]=3.0 #In case there is nan values in prediction, it will impute to 3.\n",
    "        yt=np.array(Rating_Dataframe.rating)\n",
    "        return np.sqrt(((yt-yp)**2).mean())\n"
   ]
  },
  {
   "cell_type": "code",
   "execution_count": 55,
   "id": "e8e9355b",
   "metadata": {
    "scrolled": true
   },
   "outputs": [
    {
     "name": "stdout",
     "output_type": "stream",
     "text": [
      "[1.89795276 3.51891443 2.24481857 ... 5.04321727 4.8105633  1.87682658]\n"
     ]
    }
   ],
   "source": [
    "# create a sample data matrix with some missing entries\n",
    "#data = Movie_Test_Data.loc[:,['rating']]\n",
    "data = Movie_Test_Data.loc[:, ['uID','rating']]\n",
    "\n",
    "# replace missing entries with zeros\n",
    "data = np.array(data)\n",
    "data[data == -1] = 0\n",
    "\n",
    "# create an NMF model object with data\n",
    "nmf_mdl = sklearn.decomposition.NMF(n_components=5)\n",
    "\n",
    "# perform factorization\n",
    "W = nmf_mdl.fit_transform(data) # basis vectors\n",
    "H = nmf_mdl.components_ # coefficients\n",
    "\n",
    "\n",
    "# predict the missing entries by multiplying W and H\n",
    "pred_ratings = np.dot(W,H)\n",
    "\n",
    "# print the predicted matrix\n",
    "pred_ratings_frame = pd.DataFrame(pred_ratings)\n",
    "pred_ratings_frame[1].head()\n",
    "pred_ratings_array = pred_ratings_frame[1].to_numpy() \n",
    "print(pred_ratings_array)"
   ]
  },
  {
   "cell_type": "code",
   "execution_count": 57,
   "id": "133f25bd",
   "metadata": {},
   "outputs": [
    {
     "name": "stdout",
     "output_type": "stream",
     "text": [
      "1.8785990094004206\n"
     ]
    }
   ],
   "source": [
    "RMSE_Calculation = rmse(Movie_Test_Data,pred_ratings_array)\n",
    "print(RMSE_Calculation)\n"
   ]
  },
  {
   "cell_type": "code",
   "execution_count": 58,
   "id": "04b05ad7",
   "metadata": {},
   "outputs": [
    {
     "data": {
      "text/plain": [
       "array([4, 5, 3, 2, 1], dtype=int64)"
      ]
     },
     "execution_count": 58,
     "metadata": {},
     "output_type": "execute_result"
    }
   ],
   "source": [
    "Movie_Test_Data['rating'].unique()"
   ]
  },
  {
   "cell_type": "markdown",
   "id": "a335eef2",
   "metadata": {},
   "source": [
    "## The RMSE of 1.87 is pretty good, but the above NMF for the ratings accounts for and subsitutes a 0 for any missing ratings data from the test data. \"predict the missing ratings from the test data\", but I did not see any missing ratings from the data I pulled from week 3."
   ]
  },
  {
   "cell_type": "code",
   "execution_count": null,
   "id": "763a5987",
   "metadata": {},
   "outputs": [],
   "source": []
  },
  {
   "cell_type": "code",
   "execution_count": null,
   "id": "41723586",
   "metadata": {},
   "outputs": [],
   "source": []
  }
 ],
 "metadata": {
  "kernelspec": {
   "display_name": "Python 3 (ipykernel)",
   "language": "python",
   "name": "python3"
  },
  "language_info": {
   "codemirror_mode": {
    "name": "ipython",
    "version": 3
   },
   "file_extension": ".py",
   "mimetype": "text/x-python",
   "name": "python",
   "nbconvert_exporter": "python",
   "pygments_lexer": "ipython3",
   "version": "3.10.6"
  }
 },
 "nbformat": 4,
 "nbformat_minor": 5
}
