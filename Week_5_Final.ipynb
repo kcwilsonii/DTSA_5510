{
 "cells": [
  {
   "cell_type": "markdown",
   "id": "ae73f206-c7be-42f1-963d-754ba8cc7514",
   "metadata": {},
   "source": [
    "# Week 5 Final Kaggle Data Set from Patient Data\n",
    "\n",
    "https://www.kaggle.com/datasets/thedevastator/virtual-patient-model-assessment\n",
    "\n",
    "https://www.kaggle.com/datasets/meirnizri/covid19-dataset\n",
    "\n",
    "https://www.kaggle.com/datasets/vjchoudhary7/customer-segmentation-tutorial-in-python"
   ]
  },
  {
   "cell_type": "markdown",
   "id": "2b6817dc",
   "metadata": {},
   "source": [
    "## Goal is to use K-Means Clustering to group and test data from several datasets found on Kaggle. A link to each one of these is listed above\n"
   ]
  },
  {
   "cell_type": "code",
   "execution_count": 1,
   "id": "2aa71424-8ba7-46b2-8c94-fd4d117f39a4",
   "metadata": {},
   "outputs": [],
   "source": [
    "import os\n",
    "import numpy as np\n",
    "import pandas as pd\n",
    "import sklearn\n",
    "import matplotlib.pyplot as plt            \n",
    "from sklearn.svm import SVC                                \n",
    "from sklearn.model_selection import train_test_split\n",
    "from sklearn.cluster import KMeans\n",
    "import pathlib\n",
    "import seaborn as sns\n",
    "from sklearn.preprocessing import StandardScaler,normalize  \n",
    "import warnings \n",
    "from sklearn.decomposition import PCA"
   ]
  },
  {
   "cell_type": "markdown",
   "id": "8b1e2494",
   "metadata": {},
   "source": [
    "## Run some basic data review of file data by using 'Info' to get an idea of the fields and  structure of the data. The non-null is important as too many null values in a column may render that column as not usable."
   ]
  },
  {
   "cell_type": "code",
   "execution_count": 20,
   "id": "380c245f-0e7c-454d-b7a6-8a1c063b68fd",
   "metadata": {},
   "outputs": [
    {
     "name": "stdout",
     "output_type": "stream",
     "text": [
      "Shape of Cluster Data:  (117, 59)\n",
      "<class 'pandas.core.frame.DataFrame'>\n",
      "RangeIndex: 117 entries, 0 to 116\n",
      "Data columns (total 59 columns):\n",
      " #   Column                           Non-Null Count  Dtype  \n",
      "---  ------                           --------------  -----  \n",
      " 0   part_id                          117 non-null    int64  \n",
      " 1   clinical_visit                   117 non-null    int64  \n",
      " 2   fried                            117 non-null    object \n",
      " 3   gender                           117 non-null    object \n",
      " 4   q_date                           117 non-null    object \n",
      " 5   age                              117 non-null    int64  \n",
      " 6   comorbidities_most_important     116 non-null    object \n",
      " 7   hospitalization_one_year         117 non-null    int64  \n",
      " 8   hospitalization_three_years      117 non-null    int64  \n",
      " 9   ortho_hypotension                117 non-null    object \n",
      " 10  vision                           117 non-null    object \n",
      " 11  audition                         117 non-null    object \n",
      " 12  weight_loss                      117 non-null    object \n",
      " 13  exhaustion_score                 117 non-null    int64  \n",
      " 14  raise_chair_time                 117 non-null    float64\n",
      " 15  balance_single                   117 non-null    object \n",
      " 16  gait_get_up                      117 non-null    float64\n",
      " 17  gait_speed_4m                    117 non-null    float64\n",
      " 18  gait_optional_binary             117 non-null    bool   \n",
      " 19  gait_speed_slower                117 non-null    object \n",
      " 20  grip_strength_abnormal           117 non-null    object \n",
      " 21  low_physical_activity            117 non-null    object \n",
      " 22  falls_one_year                   117 non-null    int64  \n",
      " 23  fractures_three_years            117 non-null    int64  \n",
      " 24  bmi_score                        117 non-null    float64\n",
      " 25  bmi_body_fat                     84 non-null     float64\n",
      " 26  waist                            116 non-null    float64\n",
      " 27  lean_body_mass                   84 non-null     float64\n",
      " 28  screening_score                  117 non-null    int64  \n",
      " 29  mna_total                        3 non-null      float64\n",
      " 30  cognitive_total_score            114 non-null    float64\n",
      " 31  memory_complain                  113 non-null    object \n",
      " 32  sleep                            116 non-null    object \n",
      " 33  mmse_total_score                 117 non-null    int64  \n",
      " 34  depression_total_score           117 non-null    int64  \n",
      " 35  anxiety_perception               117 non-null    float64\n",
      " 36  living_alone                     117 non-null    object \n",
      " 37  leisure_out                      117 non-null    int64  \n",
      " 38  leisure_club                     115 non-null    object \n",
      " 39  social_visits                    117 non-null    int64  \n",
      " 40  social_calls                     117 non-null    int64  \n",
      " 41  social_phone                     117 non-null    int64  \n",
      " 42  social_skype                     117 non-null    int64  \n",
      " 43  social_text                      117 non-null    int64  \n",
      " 44  house_suitable_participant       55 non-null     object \n",
      " 45  house_suitable_professional      55 non-null     object \n",
      " 46  stairs_number                    55 non-null     float64\n",
      " 47  life_quality                     117 non-null    float64\n",
      " 48  health_rate                      117 non-null    object \n",
      " 49  health_rate_comparison           117 non-null    object \n",
      " 50  pain_perception                  117 non-null    float64\n",
      " 51  activity_regular                 115 non-null    object \n",
      " 52  smoking                          117 non-null    object \n",
      " 53  alcohol_units                    117 non-null    float64\n",
      " 54  katz_index                       117 non-null    float64\n",
      " 55  iadl_grade                       117 non-null    int64  \n",
      " 56  comorbidities_count              117 non-null    int64  \n",
      " 57  comorbidities_significant_count  117 non-null    int64  \n",
      " 58  medication_count                 117 non-null    int64  \n",
      "dtypes: bool(1), float64(15), int64(21), object(22)\n",
      "memory usage: 53.3+ KB\n",
      "None\n"
     ]
    }
   ],
   "source": [
    "#file_name = \"Covid_Data.csv\"\n",
    "#file_name = \"Mall_Customer_Segmentation_Data.csv\"\n",
    "file_name = \"Virtual Patient Models_Dataset.csv\"\n",
    "\n",
    "Cluster_Data = pd.read_csv(file_name)\n",
    "print(\"Shape of Cluster Data: \",Cluster_Data.shape)\n",
    "print(Cluster_Data.info())"
   ]
  },
  {
   "cell_type": "markdown",
   "id": "69948b40",
   "metadata": {},
   "source": [
    "## Setup removing columns with too many null values.\n",
    "## I set a threshold of 25% or more as criteria for removing a column."
   ]
  },
  {
   "cell_type": "code",
   "execution_count": 21,
   "id": "3bbe8a84",
   "metadata": {},
   "outputs": [
    {
     "name": "stdout",
     "output_type": "stream",
     "text": [
      "\n",
      "Checking of for null data: \n",
      "\n",
      "Fields being removed: \n",
      "\n",
      "bmi_body_fat\n",
      "lean_body_mass\n",
      "mna_total\n",
      "house_suitable_participant\n",
      "house_suitable_professional\n",
      "stairs_number\n",
      "\n",
      "<class 'pandas.core.frame.DataFrame'>\n",
      "RangeIndex: 117 entries, 0 to 116\n",
      "Data columns (total 53 columns):\n",
      " #   Column                           Non-Null Count  Dtype  \n",
      "---  ------                           --------------  -----  \n",
      " 0   part_id                          117 non-null    int64  \n",
      " 1   clinical_visit                   117 non-null    int64  \n",
      " 2   fried                            117 non-null    object \n",
      " 3   gender                           117 non-null    object \n",
      " 4   q_date                           117 non-null    object \n",
      " 5   age                              117 non-null    int64  \n",
      " 6   comorbidities_most_important     116 non-null    object \n",
      " 7   hospitalization_one_year         117 non-null    int64  \n",
      " 8   hospitalization_three_years      117 non-null    int64  \n",
      " 9   ortho_hypotension                117 non-null    object \n",
      " 10  vision                           117 non-null    object \n",
      " 11  audition                         117 non-null    object \n",
      " 12  weight_loss                      117 non-null    object \n",
      " 13  exhaustion_score                 117 non-null    int64  \n",
      " 14  raise_chair_time                 117 non-null    float64\n",
      " 15  balance_single                   117 non-null    object \n",
      " 16  gait_get_up                      117 non-null    float64\n",
      " 17  gait_speed_4m                    117 non-null    float64\n",
      " 18  gait_optional_binary             117 non-null    bool   \n",
      " 19  gait_speed_slower                117 non-null    object \n",
      " 20  grip_strength_abnormal           117 non-null    object \n",
      " 21  low_physical_activity            117 non-null    object \n",
      " 22  falls_one_year                   117 non-null    int64  \n",
      " 23  fractures_three_years            117 non-null    int64  \n",
      " 24  bmi_score                        117 non-null    float64\n",
      " 25  waist                            116 non-null    float64\n",
      " 26  screening_score                  117 non-null    int64  \n",
      " 27  cognitive_total_score            114 non-null    float64\n",
      " 28  memory_complain                  113 non-null    object \n",
      " 29  sleep                            116 non-null    object \n",
      " 30  mmse_total_score                 117 non-null    int64  \n",
      " 31  depression_total_score           117 non-null    int64  \n",
      " 32  anxiety_perception               117 non-null    float64\n",
      " 33  living_alone                     117 non-null    object \n",
      " 34  leisure_out                      117 non-null    int64  \n",
      " 35  leisure_club                     115 non-null    object \n",
      " 36  social_visits                    117 non-null    int64  \n",
      " 37  social_calls                     117 non-null    int64  \n",
      " 38  social_phone                     117 non-null    int64  \n",
      " 39  social_skype                     117 non-null    int64  \n",
      " 40  social_text                      117 non-null    int64  \n",
      " 41  life_quality                     117 non-null    float64\n",
      " 42  health_rate                      117 non-null    object \n",
      " 43  health_rate_comparison           117 non-null    object \n",
      " 44  pain_perception                  117 non-null    float64\n",
      " 45  activity_regular                 115 non-null    object \n",
      " 46  smoking                          117 non-null    object \n",
      " 47  alcohol_units                    117 non-null    float64\n",
      " 48  katz_index                       117 non-null    float64\n",
      " 49  iadl_grade                       117 non-null    int64  \n",
      " 50  comorbidities_count              117 non-null    int64  \n",
      " 51  comorbidities_significant_count  117 non-null    int64  \n",
      " 52  medication_count                 117 non-null    int64  \n",
      "dtypes: bool(1), float64(11), int64(21), object(20)\n",
      "memory usage: 47.8+ KB\n",
      "None\n"
     ]
    }
   ],
   "source": [
    "print()\n",
    "print(\"Checking of for null data: \")\n",
    "print()\n",
    "Cluster_Data_Final = Cluster_Data.copy()\n",
    "\n",
    "Number_of_Rows = Cluster_Data_Final[Cluster_Data_Final.columns[0]].count()\n",
    "Null_Data = Cluster_Data_Final.isnull().sum()\n",
    "Check_Null_Data = pd.DataFrame({'Field_Name':Null_Data.index, 'Null_Count':Null_Data.values})\n",
    "Check_Null_Data[\"Percent_Null\"] = (Check_Null_Data[\"Null_Count\"]/Number_of_Rows)*100\n",
    "\n",
    "# set and remove data columns where the percentage of null sis higher than the \n",
    "# lower limit set\n",
    "Percentage_Lower_Limit = 25.0\n",
    "mask = (Check_Null_Data['Percent_Null']  >= Percentage_Lower_Limit)\n",
    "Columns_to_remove = Check_Null_Data.loc[mask][\"Field_Name\"]\n",
    "Columns_Removal_List = pd.DataFrame({'Field_Name':Columns_to_remove.values})\n",
    "print('Fields being removed: ')\n",
    "print()\n",
    "for index, row in Columns_Removal_List.iterrows():\n",
    "    print(row['Field_Name'])\n",
    "    #drop column from Cluster Data    \n",
    "    Cluster_Data_Final = Cluster_Data_Final.drop(row['Field_Name'], axis =1)\n",
    "    \n",
    "print()\n",
    "print(Cluster_Data_Final.info())"
   ]
  },
  {
   "cell_type": "markdown",
   "id": "9032fff4",
   "metadata": {},
   "source": [
    "## Show more detail about the remaining columns. \n",
    "\n",
    "## Checking to see how unique each column is as to avoid including a field/column that almost acts an index column. \n",
    "\n",
    "## With this data there are several columns that fairly high unique counts (q_date,raise_chair_time, gait_get_up, bmi_score). \n",
    "\n",
    "## It is possible these fields might  need some grouping done but they also seem to be necessary for this dataset's collection process. \n",
    "\n",
    "## I would say q_date, part_id (participant id) and clinical visit (visit count for that clinical visit) should be removed for cluster analysis purposes\n",
    "\n",
    "\n"
   ]
  },
  {
   "cell_type": "code",
   "execution_count": 22,
   "id": "41465773",
   "metadata": {},
   "outputs": [
    {
     "name": "stdout",
     "output_type": "stream",
     "text": [
      "Number of Unique values in each column: \n",
      "\n",
      "part_id                             30\n",
      "clinical_visit                       4\n",
      "fried                                3\n",
      "gender                               2\n",
      "q_date                             101\n",
      "age                                 16\n",
      "comorbidities_most_important         4\n",
      "hospitalization_one_year             3\n",
      "hospitalization_three_years          4\n",
      "ortho_hypotension                    2\n",
      "vision                               3\n",
      "audition                             2\n",
      "weight_loss                          2\n",
      "exhaustion_score                     2\n",
      "raise_chair_time                    82\n",
      "balance_single                       3\n",
      "gait_get_up                         90\n",
      "gait_speed_4m                       77\n",
      "gait_optional_binary                 2\n",
      "gait_speed_slower                    2\n",
      "grip_strength_abnormal               2\n",
      "low_physical_activity                2\n",
      "falls_one_year                       5\n",
      "fractures_three_years                4\n",
      "bmi_score                          104\n",
      "waist                               37\n",
      "screening_score                      4\n",
      "cognitive_total_score               11\n",
      "memory_complain                      2\n",
      "sleep                                3\n",
      "mmse_total_score                     7\n",
      "depression_total_score               9\n",
      "anxiety_perception                  44\n",
      "living_alone                         2\n",
      "leisure_out                         11\n",
      "leisure_club                         2\n",
      "social_visits                       10\n",
      "social_calls                        17\n",
      "social_phone                        43\n",
      "social_skype                         9\n",
      "social_text                         14\n",
      "life_quality                        34\n",
      "health_rate                          5\n",
      "health_rate_comparison               4\n",
      "pain_perception                     41\n",
      "activity_regular                     4\n",
      "smoking                              3\n",
      "alcohol_units                       15\n",
      "katz_index                           2\n",
      "iadl_grade                          13\n",
      "comorbidities_count                 16\n",
      "comorbidities_significant_count      3\n",
      "medication_count                    15\n",
      "dtype: int64\n"
     ]
    }
   ],
   "source": [
    "print('Number of Unique values in each column: ')\n",
    "print()\n",
    "print(Cluster_Data_Final.nunique())"
   ]
  },
  {
   "cell_type": "markdown",
   "id": "cb75bb04",
   "metadata": {},
   "source": [
    "## Remove those fields not needed :\n",
    "\n",
    "### q_date, part_id (participant id) and clinical visit (visit count for that clinical visit)"
   ]
  },
  {
   "cell_type": "code",
   "execution_count": 24,
   "id": "e80fc391",
   "metadata": {},
   "outputs": [
    {
     "name": "stdout",
     "output_type": "stream",
     "text": [
      "part_id\n",
      "q_date\n",
      "clinical_visit\n",
      "\n",
      "fried                                3\n",
      "gender                               2\n",
      "age                                 16\n",
      "comorbidities_most_important         4\n",
      "hospitalization_one_year             3\n",
      "hospitalization_three_years          4\n",
      "ortho_hypotension                    2\n",
      "vision                               3\n",
      "audition                             2\n",
      "weight_loss                          2\n",
      "exhaustion_score                     2\n",
      "raise_chair_time                    82\n",
      "balance_single                       3\n",
      "gait_get_up                         90\n",
      "gait_speed_4m                       77\n",
      "gait_optional_binary                 2\n",
      "gait_speed_slower                    2\n",
      "grip_strength_abnormal               2\n",
      "low_physical_activity                2\n",
      "falls_one_year                       5\n",
      "fractures_three_years                4\n",
      "bmi_score                          104\n",
      "waist                               37\n",
      "screening_score                      4\n",
      "cognitive_total_score               11\n",
      "memory_complain                      2\n",
      "sleep                                3\n",
      "mmse_total_score                     7\n",
      "depression_total_score               9\n",
      "anxiety_perception                  44\n",
      "living_alone                         2\n",
      "leisure_out                         11\n",
      "leisure_club                         2\n",
      "social_visits                       10\n",
      "social_calls                        17\n",
      "social_phone                        43\n",
      "social_skype                         9\n",
      "social_text                         14\n",
      "life_quality                        34\n",
      "health_rate                          5\n",
      "health_rate_comparison               4\n",
      "pain_perception                     41\n",
      "activity_regular                     4\n",
      "smoking                              3\n",
      "alcohol_units                       15\n",
      "katz_index                           2\n",
      "iadl_grade                          13\n",
      "comorbidities_count                 16\n",
      "comorbidities_significant_count      3\n",
      "medication_count                    15\n",
      "dtype: int64\n"
     ]
    }
   ],
   "source": [
    "Column_names = ('part_id','q_date','clinical_visit')\n",
    "for Column in Column_names:\n",
    "    print(Column)\n",
    "    Cluster_Data_Final = Cluster_Data_Final.drop(Column, axis =1)\n",
    "print()\n",
    "print(Cluster_Data_Final.nunique())"
   ]
  },
  {
   "cell_type": "markdown",
   "id": "65649ba0",
   "metadata": {},
   "source": [
    "## Make sure we are using just numbers by converting categorical values to integers"
   ]
  },
  {
   "cell_type": "code",
   "execution_count": 25,
   "id": "511ae488",
   "metadata": {},
   "outputs": [
    {
     "name": "stdout",
     "output_type": "stream",
     "text": [
      "Fields to be Label Encoded: \n",
      "\n",
      "['fried', 'gender', 'comorbidities_most_important', 'ortho_hypotension', 'vision', 'audition', 'weight_loss', 'balance_single', 'gait_optional_binary', 'gait_speed_slower', 'grip_strength_abnormal', 'low_physical_activity', 'memory_complain', 'sleep', 'living_alone', 'leisure_club', 'health_rate', 'health_rate_comparison', 'activity_regular', 'smoking']\n",
      "\n",
      "<class 'pandas.core.frame.DataFrame'>\n",
      "     fried  gender  age  comorbidities_most_important  \\\n",
      "0        2       1   78                             1   \n",
      "1        2       1   79                             1   \n",
      "2        2       1   79                             1   \n",
      "3        2       1   80                             1   \n",
      "4        1       0   72                             1   \n",
      "..     ...     ...  ...                           ...   \n",
      "112      2       0   75                             1   \n",
      "113      0       0   78                             4   \n",
      "114      0       0   78                             1   \n",
      "115      0       0   78                             1   \n",
      "116      0       0   79                             1   \n",
      "\n",
      "     hospitalization_one_year  hospitalization_three_years  ortho_hypotension  \\\n",
      "0                           0                            0                  0   \n",
      "1                           0                            0                  0   \n",
      "2                           0                            0                  0   \n",
      "3                           0                            0                  0   \n",
      "4                           1                            3                  0   \n",
      "..                        ...                          ...                ...   \n",
      "112                         0                            0                  0   \n",
      "113                         0                            0                  0   \n",
      "114                         0                            0                  0   \n",
      "115                         0                            0                  0   \n",
      "116                         0                            0                  0   \n",
      "\n",
      "     vision  audition  weight_loss  ...  health_rate_comparison  \\\n",
      "0         0         0            0  ...                       1   \n",
      "1         0         0            0  ...                       1   \n",
      "2         0         0            0  ...                       1   \n",
      "3         0         0            0  ...                       1   \n",
      "4         2         1            0  ...                       1   \n",
      "..      ...       ...          ...  ...                     ...   \n",
      "112       2         1            0  ...                       2   \n",
      "113       2         0            0  ...                       0   \n",
      "114       2         0            0  ...                       1   \n",
      "115       2         0            0  ...                       1   \n",
      "116       2         0            0  ...                       1   \n",
      "\n",
      "     pain_perception  activity_regular  smoking  alcohol_units  katz_index  \\\n",
      "0                1.2                 2        2            1.5         6.0   \n",
      "1                1.0                 2        2           21.0         6.0   \n",
      "2                1.3                 2        2           14.0         6.0   \n",
      "3                2.5                 2        2           18.0         6.0   \n",
      "4                2.5                 1        2            0.0         6.0   \n",
      "..               ...               ...      ...            ...         ...   \n",
      "112              3.0                 1        1            2.0         6.0   \n",
      "113              3.0                 2        1            2.0         6.0   \n",
      "114              1.0                 2        1            2.0         6.0   \n",
      "115              3.0                 2        1            2.0         6.0   \n",
      "116              3.0                 0        1            0.0         6.0   \n",
      "\n",
      "     iadl_grade  comorbidities_count  comorbidities_significant_count  \\\n",
      "0            29                    6                                2   \n",
      "1            25                    7                                0   \n",
      "2            24                    7                                0   \n",
      "3            26                    8                                0   \n",
      "4            31                   11                                1   \n",
      "..          ...                  ...                              ...   \n",
      "112          31                    4                                0   \n",
      "113          31                    0                                0   \n",
      "114          31                    1                                0   \n",
      "115          31                    3                                0   \n",
      "116          31                    3                                0   \n",
      "\n",
      "     medication_count  \n",
      "0                   5  \n",
      "1                   6  \n",
      "2                   6  \n",
      "3                   7  \n",
      "4                  10  \n",
      "..                ...  \n",
      "112                 2  \n",
      "113                 4  \n",
      "114                 4  \n",
      "115                 4  \n",
      "116                 5  \n",
      "\n",
      "[117 rows x 50 columns]\n"
     ]
    }
   ],
   "source": [
    "from sklearn.preprocessing import LabelEncoder as le\n",
    "\n",
    "Non_numeric_Data_Fields = Cluster_Data_Final.select_dtypes(exclude=np.number).columns.tolist()\n",
    "Cluster_Data_Final[Non_numeric_Data_Fields] = Cluster_Data_Final[Non_numeric_Data_Fields].apply(le().fit_transform)\n",
    "\n",
    "print(\"Fields to be Label Encoded: \")\n",
    "print()\n",
    "print(Non_numeric_Data_Fields)\n",
    "print()    \n",
    "print(type(Cluster_Data_Final))\n",
    "print(Cluster_Data_Final)"
   ]
  },
  {
   "cell_type": "markdown",
   "id": "ab483927",
   "metadata": {},
   "source": [
    "## Normalize/scale the data so it all fits in the same range for processing and update any remaining null values with mean of that column\n",
    "## K-means will not work with null values"
   ]
  },
  {
   "cell_type": "code",
   "execution_count": 26,
   "id": "f49b61e9",
   "metadata": {},
   "outputs": [
    {
     "name": "stdout",
     "output_type": "stream",
     "text": [
      "<class 'pandas.core.frame.DataFrame'>\n",
      "RangeIndex: 117 entries, 0 to 116\n",
      "Data columns (total 50 columns):\n",
      " #   Column                           Non-Null Count  Dtype  \n",
      "---  ------                           --------------  -----  \n",
      " 0   fried                            117 non-null    float64\n",
      " 1   gender                           117 non-null    float64\n",
      " 2   age                              117 non-null    float64\n",
      " 3   comorbidities_most_important     117 non-null    float64\n",
      " 4   hospitalization_one_year         117 non-null    float64\n",
      " 5   hospitalization_three_years      117 non-null    float64\n",
      " 6   ortho_hypotension                117 non-null    float64\n",
      " 7   vision                           117 non-null    float64\n",
      " 8   audition                         117 non-null    float64\n",
      " 9   weight_loss                      117 non-null    float64\n",
      " 10  exhaustion_score                 117 non-null    float64\n",
      " 11  raise_chair_time                 117 non-null    float64\n",
      " 12  balance_single                   117 non-null    float64\n",
      " 13  gait_get_up                      117 non-null    float64\n",
      " 14  gait_speed_4m                    117 non-null    float64\n",
      " 15  gait_optional_binary             117 non-null    float64\n",
      " 16  gait_speed_slower                117 non-null    float64\n",
      " 17  grip_strength_abnormal           117 non-null    float64\n",
      " 18  low_physical_activity            117 non-null    float64\n",
      " 19  falls_one_year                   117 non-null    float64\n",
      " 20  fractures_three_years            117 non-null    float64\n",
      " 21  bmi_score                        117 non-null    float64\n",
      " 22  waist                            117 non-null    float64\n",
      " 23  screening_score                  117 non-null    float64\n",
      " 24  cognitive_total_score            117 non-null    float64\n",
      " 25  memory_complain                  117 non-null    float64\n",
      " 26  sleep                            117 non-null    float64\n",
      " 27  mmse_total_score                 117 non-null    float64\n",
      " 28  depression_total_score           117 non-null    float64\n",
      " 29  anxiety_perception               117 non-null    float64\n",
      " 30  living_alone                     117 non-null    float64\n",
      " 31  leisure_out                      117 non-null    float64\n",
      " 32  leisure_club                     117 non-null    float64\n",
      " 33  social_visits                    117 non-null    float64\n",
      " 34  social_calls                     117 non-null    float64\n",
      " 35  social_phone                     117 non-null    float64\n",
      " 36  social_skype                     117 non-null    float64\n",
      " 37  social_text                      117 non-null    float64\n",
      " 38  life_quality                     117 non-null    float64\n",
      " 39  health_rate                      117 non-null    float64\n",
      " 40  health_rate_comparison           117 non-null    float64\n",
      " 41  pain_perception                  117 non-null    float64\n",
      " 42  activity_regular                 117 non-null    float64\n",
      " 43  smoking                          117 non-null    float64\n",
      " 44  alcohol_units                    117 non-null    float64\n",
      " 45  katz_index                       117 non-null    float64\n",
      " 46  iadl_grade                       117 non-null    float64\n",
      " 47  comorbidities_count              117 non-null    float64\n",
      " 48  comorbidities_significant_count  117 non-null    float64\n",
      " 49  medication_count                 117 non-null    float64\n",
      "dtypes: float64(50)\n",
      "memory usage: 45.8 KB\n",
      "None\n"
     ]
    }
   ],
   "source": [
    "#Standardize/normalize the data\n",
    "scalar = StandardScaler()\n",
    "scaled_Cluster_data = pd.DataFrame(scalar.fit_transform(Cluster_Data_Final), columns = Cluster_Data_Final.columns) \n",
    "\n",
    "#update null values to mean of that column\n",
    "scaled_Cluster_data.fillna(scaled_Cluster_data.mean(), inplace=True)\n",
    "print(scaled_Cluster_data.info())\n"
   ]
  },
  {
   "cell_type": "markdown",
   "id": "b372a831",
   "metadata": {},
   "source": [
    "## Check for outliers using a horizontal BoxPlot.\n",
    "## Outliers can affect a K-means clustering. So. here we display all the remaining variables as horizontal boxplots to show where we might have problem data.\n",
    "## After, review the data does show it to be littered with outliers on multiple columns. I would normally take steps to account for this, but the dataset is small already and removing those rows might impact the grouping.\n",
    "## While we have multiple visits from the same individual, I did review the data using an Excel pivot to see how much the data varied from one visit to the next and it varies enough to warrant no removing those outliers like you see in 'gait_speed_4m'"
   ]
  },
  {
   "cell_type": "code",
   "execution_count": 28,
   "id": "a53646eb",
   "metadata": {
    "scrolled": true
   },
   "outputs": [
    {
     "data": {
      "text/plain": [
       "<AxesSubplot: >"
      ]
     },
     "execution_count": 28,
     "metadata": {},
     "output_type": "execute_result"
    },
    {
     "data": {
      "image/png": "[encoded data removed]",
      "text/plain": [
       "<Figure size 720x1080 with 1 Axes>"
      ]
     },
     "metadata": {
      "needs_background": "light"
     },
     "output_type": "display_data"
    }
   ],
   "source": [
    "fig, ax = plt.subplots(figsize=(10, 15))\n",
    "sns.boxplot(data=scaled_Cluster_data, orient=\"h\", palette=\"Set2\")"
   ]
  },
  {
   "cell_type": "markdown",
   "id": "78dbc51e",
   "metadata": {},
   "source": [
    "## There may be more fields/columns that should be removed due to them being a target value of the dataset. This this one had several that I questioned as they seemed like they could be target (y/outcome) variables. These were, 'fried' score, 'katz_index' and 'iadl_grade'. \n",
    "## The documention on the Kaggle website was thin though and did not indicate any specific target/outcome variable. Thus none were removed for this particular analysis.\n",
    "## We want to remove any outcome variable so that the dataset being grouped is an unsupervised one and including that variable could cause issues with the data being analyzed"
   ]
  },
  {
   "cell_type": "code",
   "execution_count": 29,
   "id": "39c88df9",
   "metadata": {},
   "outputs": [],
   "source": [
    "##Set y_labels before predictions and remove the target value from the dataset\n",
    "\n",
    "#y_Cluster_Data = scaled_Cluster_data['CLASIFFICATION_FINAL']\n",
    "#X_Cluster_Data = scaled_Cluster_data.drop('CLASIFFICATION_FINAL', axis =1)\n",
    "\n",
    "#y_Cluster_Data = scaled_Cluster_data['katz_index']\n",
    "#X_Cluster_Data = scaled_Cluster_data.drop('katz_index', axis =1)\n",
    "\n",
    "#y_Cluster_Data = scaled_Cluster_data['CLASIFFICATION_FINAL']\n",
    "#X_Cluster_Data = scaled_Cluster_data.drop('CustomerID', axis =1) # this is too unique\n",
    "\n",
    "\n"
   ]
  },
  {
   "cell_type": "markdown",
   "id": "427b3fee",
   "metadata": {},
   "source": [
    "## Run Elbow method to help determine number of clusters needed.\n",
    "## This Graph did not show an explicit elbow so further testing will be needed"
   ]
  },
  {
   "cell_type": "code",
   "execution_count": 31,
   "id": "9e02c4ae",
   "metadata": {},
   "outputs": [
    {
     "data": {
      "text/plain": [
       "<function matplotlib.pyplot.show(close=None, block=None)>"
      ]
     },
     "execution_count": 31,
     "metadata": {},
     "output_type": "execute_result"
    },
    {
     "data": {
      "image/png": "[encoded data removed]",
      "text/plain": [
       "<Figure size 432x288 with 1 Axes>"
      ]
     },
     "metadata": {
      "needs_background": "light"
     },
     "output_type": "display_data"
    }
   ],
   "source": [
    "Inertia_Values = []\n",
    "\n",
    "Number_of_Clusters_to_Test = 30\n",
    "for i in range(1, Number_of_Clusters_to_Test):\n",
    "    kmeans = KMeans(n_clusters = i, init = 'k-means++', max_iter = 300, n_init = 10, random_state = 0)\n",
    "    kmeans.fit(X_Cluster_Data)\n",
    "    Inertia_Values.append(kmeans.inertia_)\n",
    "    \n",
    "plt.plot(range(1, Number_of_Clusters_to_Test), Inertia_Values)\n",
    "plt.title('The Elbow Method')\n",
    "plt.xlabel('Number of clusters')\n",
    "plt.ylabel('Inertia_Values')\n",
    "plt.show"
   ]
  },
  {
   "cell_type": "markdown",
   "id": "657de415",
   "metadata": {},
   "source": [
    "## Run test using different Cluster sizes and review inertia value for choosing a cluster number to use"
   ]
  },
  {
   "cell_type": "code",
   "execution_count": 34,
   "id": "e1f18017",
   "metadata": {},
   "outputs": [
    {
     "name": "stdout",
     "output_type": "stream",
     "text": [
      "   Cluster_Number      Inertia\n",
      "0               1       6674.0\n",
      "1               2  5885.717554\n",
      "2               3  5335.319027\n",
      "3               4    4878.9169\n",
      "4               5  4592.365801\n",
      "5               6  4348.171171\n",
      "6               7  4131.608751\n",
      "7               8  4028.108411\n",
      "8               9  3898.738694\n",
      "9              10   3697.21873\n",
      "10             11  3590.842321\n",
      "11             12   3425.96974\n",
      "12             13  3333.023202\n",
      "13             14  3194.103035\n",
      "14             15  3022.401756\n",
      "15             16  2934.586782\n",
      "16             17   2766.50057\n",
      "17             18  2703.686478\n",
      "18             19  2644.598395\n",
      "19             20  2581.312452\n",
      "20             21  2428.856429\n",
      "21             22  2376.672631\n",
      "22             23  2292.530638\n",
      "23             24  2240.853954\n",
      "24             25  2087.044052\n",
      "25             26  2017.708072\n",
      "26             27  1972.000635\n",
      "27             28  1938.344897\n",
      "28             29  1862.197434\n",
      "29             30   1800.25508\n"
     ]
    }
   ],
   "source": [
    "warnings.simplefilter('ignore')\n",
    "#Total_label_Count = y_Cluster_Data.size\n",
    "Number_of_Clusters_to_Test = 31\n",
    "\n",
    "## Data Frme to hold cluster results\n",
    "Cluster_Tests = None\n",
    "Cluster_Tests =  pd.DataFrame(columns = ['Cluster_Number', 'Inertia'], index = range(Number_of_Clusters_to_Test-1))\n",
    "                                         \n",
    "for i in range(1, Number_of_Clusters_to_Test):\n",
    "    kmeans = KMeans(n_clusters = i, init = 'k-means++', max_iter = 300, n_init = 10, random_state = 0)\n",
    "    kmeans.fit(X_Cluster_Data)\n",
    "    labels = kmeans.labels_\n",
    "    cluster_Number = i\n",
    "    Cluster_Tests.loc[i-1] = (cluster_Number, kmeans.inertia_)\n",
    "                        \n",
    "\n",
    "print(Cluster_Tests)\n",
    "warnings.resetwarnings()"
   ]
  },
  {
   "cell_type": "markdown",
   "id": "411b98e8",
   "metadata": {},
   "source": [
    "## The inertia value does get better as the cluster count get's higher , but I would consider a lower cluster count due the relatively small databaset.\n",
    "## These are not great inertia values for K-Means \n",
    "## I am going to go with 10 for a cluster count for graphing purposes, as more than that with a dataset as small as this will result in too few datapoints in each cluster"
   ]
  },
  {
   "cell_type": "code",
   "execution_count": 37,
   "id": "47e07828",
   "metadata": {},
   "outputs": [
    {
     "name": "stdout",
     "output_type": "stream",
     "text": [
      "[4 2 2 4 4 4 4 4 2 2 2 2 5 5 5 5 6 6 6 6 3 3 3 3 2 2 2 2 4 4 4 4 2 2 2 2 4\n",
      " 4 4 4 2 2 2 2 2 2 2 2 3 3 3 3 6 6 6 4 9 5 5 5 7 7 1 1 4 4 1 7 7 6 1 1 7 1\n",
      " 1 1 7 1 1 1 8 8 1 1 7 7 1 1 7 8 6 7 1 1 1 8 1 1 1 7 7 1 1 1 1 1 0 0 0 7 1\n",
      " 6 6 8 8 3 3]\n"
     ]
    }
   ],
   "source": [
    "cluster_Number = 10\n",
    "kmeans = KMeans(init='k-means++', n_clusters=cluster_Number, n_init=50, random_state=42)\n",
    "\n",
    "kmeans.fit(X_Cluster_Data)\n",
    "pred = kmeans.predict(X_Cluster_Data)\n",
    "print(pred)"
   ]
  },
  {
   "cell_type": "markdown",
   "id": "2dbde908",
   "metadata": {},
   "source": [
    "## Review Results of clustering and add the predicted cluster values to the dataframe. Here we see the degration in number of points in each cluster"
   ]
  },
  {
   "cell_type": "code",
   "execution_count": 39,
   "id": "542cceaf",
   "metadata": {},
   "outputs": [
    {
     "name": "stdout",
     "output_type": "stream",
     "text": [
      "Total in each cluster = \n",
      " 1    27\n",
      "2    22\n",
      "4    17\n",
      "7    13\n",
      "6    11\n",
      "3    10\n",
      "5     7\n",
      "8     6\n",
      "0     3\n",
      "9     1\n",
      "Name: Cluster, dtype: int64\n"
     ]
    }
   ],
   "source": [
    "X_Cluster_Data['Cluster'] = pd.DataFrame(pred, columns=['cluster'] )\n",
    "\n",
    "print('Total in each cluster = \\n', X_Cluster_Data['Cluster'].value_counts())\n"
   ]
  },
  {
   "cell_type": "markdown",
   "id": "ed9d2e90",
   "metadata": {},
   "source": [
    "## Utilize PCA to reduce the number of dimensions so we can graph the grouped/clustered data"
   ]
  },
  {
   "cell_type": "code",
   "execution_count": 59,
   "id": "6e4b4c92",
   "metadata": {},
   "outputs": [],
   "source": [
    "pca = PCA(n_components=2)\n",
    "pca.fit(X_Cluster_Data)\n",
    "data_pca = pca.transform(X_Cluster_Data)\n",
    "#print(data_pca)"
   ]
  },
  {
   "cell_type": "code",
   "execution_count": 67,
   "id": "a8bc8699",
   "metadata": {},
   "outputs": [
    {
     "data": {
      "image/png": "[encoded data removed]",
      "text/plain": [
       "<Figure size 432x288 with 1 Axes>"
      ]
     },
     "metadata": {
      "needs_background": "light"
     },
     "output_type": "display_data"
    }
   ],
   "source": [
    "# Plot the clusters using a scatter plot\n",
    "scatter = plt.scatter(data_pca[:, 0], data_pca[:, 1], c=X_Cluster_Data[\"Cluster\"], cmap=\"rainbow\")\n",
    "plt.xlabel(\"PC1\")\n",
    "plt.ylabel(\"PC2\")\n",
    "plt.title(\"PCA and k-means clustering\")\n",
    "plt.legend(*scatter.legend_elements(),bbox_to_anchor=(1, 1), loc='upper left', ncol=1)\n",
    "\n",
    "plt.show()"
   ]
  },
  {
   "cell_type": "code",
   "execution_count": null,
   "id": "6b61ef5f",
   "metadata": {},
   "outputs": [],
   "source": []
  },
  {
   "cell_type": "markdown",
   "id": "a59ec6b4",
   "metadata": {},
   "source": [
    "## While this dataset was not perfect due to issues with outliers and multiple entries from the same individuals it did end grouping better than I expected.\n",
    "\n",
    "## This Could be a great dataset but would need more data and some consolidation around each participant where each field is averaged for that paticipants visits to make it more usefull for a K-Means analysis\n",
    "\n",
    "## I did try two other datasets from Kaggle, which are both shown with their links at the top of this Notebook\n",
    "\n",
    "## One was a much larger data set using Covid data, but found it to be a problematic due to the number of fields that were basically binary(yes/no) data fields. This did not work well the K-Means as there was not enough variation data wise and that led to many data points not getting grouped at all. Very poor performance with this set.\n",
    "\n",
    "## The other was a training dataset for Mall shoppers. This one suffered from very few fields that did not really give enough data to provide insights. This was only 200 rows of data and could probably have been relegated to an excel file for insights and analysis. I did see a couple K-Means projects on this data on Kaggle, but again no reall information gleaned using machine learning\n",
    "\n"
   ]
  },
  {
   "cell_type": "code",
   "execution_count": null,
   "id": "c23bb40a",
   "metadata": {},
   "outputs": [],
   "source": []
  }
 ],
 "metadata": {
  "kernelspec": {
   "display_name": "Python 3 (ipykernel)",
   "language": "python",
   "name": "python3"
  },
  "language_info": {
   "codemirror_mode": {
    "name": "ipython",
    "version": 3
   },
   "file_extension": ".py",
   "mimetype": "text/x-python",
   "name": "python",
   "nbconvert_exporter": "python",
   "pygments_lexer": "ipython3",
   "version": "3.10.6"
  }
 },
 "nbformat": 4,
 "nbformat_minor": 5
}
